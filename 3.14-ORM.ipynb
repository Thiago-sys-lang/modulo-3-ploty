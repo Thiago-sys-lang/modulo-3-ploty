{
 "cells": [
  {
   "cell_type": "markdown",
   "metadata": {},
   "source": [
    "> Projeto Desenvolve <br>\n",
    "Programação Intermediária com Python <br>\n",
    "Profa. Camila Laranjeira (mila@projetodesenvolve.com.br) <br>\n",
    "\n",
    "# 3.14 - ORM"
   ]
  },
  {
   "cell_type": "markdown",
   "metadata": {},
   "source": [
    "## Exercícios\n",
    "\n",
    "#### Q1. Conhecendo os dados\n",
    "Baixe o seguinte csv onde iremos trabalhar. Ele contém informações sobre salários de profissionais de dados de uma empresa hipotética entre 2009 e 2016\n",
    "* https://github.com/camilalaranjeira/python-intermediario/blob/main/salaries.csv\n",
    "\n",
    "Suas colunas, descritas na [página do Kaggle que contém o dataset](https://www.kaggle.com/datasets/krishujeniya/salary-prediction-of-data-professions?resource=download), são:\n",
    "* FIRST NAME: Primeiro nome do profissional de dados (String)\n",
    "* LAST NAME: Sobrenome do profissional de dados (String)\n",
    "* SEX: Gênero do profissional de dados (String: 'F' para Feminino, 'M' para Masculino)\n",
    "* DOJ (Date of Joining): A data em que o profissional de dados ingressou na empresa (Data no formato MM/DD/AAAA)\n",
    "* CURRENT DATE: A data atual ou a data de referência dos dados (Data no formato MM/DD/AAAA)\n",
    "* DESIGNATION: O cargo ou designação do profissional de dados (String: ex., Analista, Analista Sênior, Gerente)\n",
    "* AGE: Idade do profissional de dados (Integer)\n",
    "* SALARY: Salário anual do profissional de dados (Float)\n",
    "* UNIT: Unidade de negócios ou departamento em que o profissional de dados trabalha (String: ex., TI, Finanças, Marketing)\n",
    "* LEAVES USED: Número de licenças utilizadas pelo profissional de dados (Integer)\n",
    "* LEAVES REMAINING: Número de licenças restantes para o profissional de dados (Integer)\n",
    "* RATINGS: Avaliações de desempenho do profissional de dados (Float)\n",
    "* PAST EXP: Experiência de trabalho anterior em anos antes de ingressar na empresa atual (Float)\n",
    "\n",
    "Na célula a seguir, **carregue os dados do CSV e dê uma olhada neles antes de seguir**."
   ]
  },
  {
   "cell_type": "code",
   "execution_count": null,
   "metadata": {
    "vscode": {
     "languageId": "plaintext"
    }
   },
   "outputs": [],
   "source": [
    "### Escreva sua resposta aqui\n",
    "import pandas as pd\n",
    "\n",
    "# Carregar o dataset\n",
    "url = \"https://github.com/camilalaranjeira/python-intermediario/blob/main/salaries.csv?raw=true\"\n",
    "df = pd.read_csv(url)\n",
    "\n",
    "# Exibir as primeiras linhas do DataFrame para inspeção\n",
    "print(df.head())\n",
    "\n",
    "# Exibir informações sobre o DataFrame, como tipo de dados e valores não nulos\n",
    "print(df.info())\n",
    "\n",
    "# Exibir estatísticas descritivas das colunas numéricas\n",
    "print(df.describe())"
   ]
  },
  {
   "cell_type": "markdown",
   "metadata": {},
   "source": [
    "#### Q2. Modelando os dados\n",
    "Você deve **criar um ORM com SQLAlchemy capaz de comportar os dados dessa base**.\n",
    "\n",
    "* Crie um campo de chave primária `ID`, que deve ser incrementado automaticamente\n",
    "* Os campos SEX, DESIGNATION e UNIT devem ser definidos como classes `Enum` com os possíveis valores (consulte os valores únicos dessas colunas)\n",
    "* Para os outros campos, consulte os tipos de dados informados na descrição acima"
   ]
  },
  {
   "cell_type": "code",
   "execution_count": null,
   "metadata": {
    "vscode": {
     "languageId": "plaintext"
    }
   },
   "outputs": [],
   "source": [
    "### Escreva sua resposta aqui\n",
    "from sqlalchemy import create_engine, Column, Integer, String, Float, Date, Enum\n",
    "from sqlalchemy.ext.declarative import declarative_base\n",
    "from sqlalchemy.orm import sessionmaker\n",
    "import enum\n",
    "import pandas as pd\n",
    "\n",
    "# Carregar os dados\n",
    "url = \"https://github.com/camilalaranjeira/python-intermediario/blob/main/salaries.csv?raw=true\"\n",
    "df = pd.read_csv(url)\n",
    "\n",
    "# Definir a base declarativa\n",
    "Base = declarative_base()\n",
    "\n",
    "# Definir os Enums\n",
    "class SexEnum(enum.Enum):\n",
    "    F = 'F'\n",
    "    M = 'M'\n",
    "\n",
    "class DesignationEnum(enum.Enum):\n",
    "    Analyst = 'Analyst'\n",
    "    Senior_Analyst = 'Senior Analyst'\n",
    "    Manager = 'Manager'\n",
    "    # Adicione outros valores únicos encontrados na coluna DESIGNATION\n",
    "\n",
    "class UnitEnum(enum.Enum):\n",
    "    IT = 'IT'\n",
    "    Finance = 'Finance'\n",
    "    Marketing = 'Marketing'\n",
    "    # Adicione outros valores únicos encontrados na coluna UNIT\n",
    "\n",
    "# Definir o modelo\n",
    "class Salary(Base):\n",
    "    __tablename__ = 'salaries'\n",
    "\n",
    "    id = Column(Integer, primary_key=True, autoincrement=True)\n",
    "    first_name = Column(String)\n",
    "    last_name = Column(String)\n",
    "    sex = Column(Enum(SexEnum))\n",
    "    doj = Column(Date)\n",
    "    current_date = Column(Date)\n",
    "    designation = Column(Enum(DesignationEnum))\n",
    "    age = Column(Integer)\n",
    "    salary = Column(Float)\n",
    "    unit = Column(Enum(UnitEnum))\n",
    "    leaves_used = Column(Integer)\n",
    "    leaves_remaining = Column(Integer)\n",
    "    ratings = Column(Float)\n",
    "    past_exp = Column(Float)\n",
    "\n",
    "    def __repr__(self):\n",
    "        return f\"<Salary(id={self.id}, first_name='{self.first_name}', last_name='{self.last_name}')>\"\n",
    "\n",
    "# Criar o banco de dados e as tabelas\n",
    "engine = create_engine('sqlite:///salaries.db')  # Use SQLite para simplicidade\n",
    "Base.metadata.create_all(engine)\n",
    "\n",
    "# Criar uma sessão para interagir com o banco de dados\n",
    "Session = sessionmaker(bind=engine)\n",
    "session = Session()\n",
    "\n",
    "# Converter as colunas de data para o tipo datetime\n",
    "df['DOJ'] = pd.to_datetime(df['DOJ'])\n",
    "df['CURRENT DATE'] = pd.to_datetime(df['CURRENT DATE'])\n",
    "\n",
    "# Converter os dados do DataFrame para objetos Salary e adicioná-los à sessão\n",
    "for index, row in df.iterrows():\n",
    "    salary = Salary(\n",
    "        first_name=row['FIRST NAME'],\n",
    "        last_name=row['LAST NAME'],\n",
    "        sex=SexEnum(row['SEX']),\n",
    "        doj=row['DOJ'].to_pydatetime(),\n",
    "        current_date=row['CURRENT DATE'].to_pydatetime(),\n",
    "        designation=DesignationEnum(row['DESIGNATION']),\n",
    "        age=row['AGE'],\n",
    "        salary=row['SALARY'],\n",
    "        unit=UnitEnum(row['UNIT']),\n",
    "        leaves_used=row['LEAVES USED'],\n",
    "        leaves_remaining=row['LEAVES REMAINING'],\n",
    "        ratings=row['RATINGS'],\n",
    "        past_exp=row['PAST EXP']\n",
    "    )\n",
    "    session.add(salary)\n",
    "\n",
    "# Commit e fechar a sessão\n",
    "session.commit()\n",
    "session.close()\n",
    "\n",
    "print(\"Dados carregados com sucesso no banco de dados!\")"
   ]
  },
  {
   "cell_type": "markdown",
   "metadata": {
    "vscode": {
     "languageId": "plaintext"
    }
   },
   "source": [
    "#### Q3. Estabelecendo uma conexão\n",
    "\n",
    "Usando o método `create_engine` do SQLAlchemy, crie uma conexão com um novo banco de dados SQLite chamado `salarios`."
   ]
  },
  {
   "cell_type": "code",
   "execution_count": null,
   "metadata": {
    "vscode": {
     "languageId": "plaintext"
    }
   },
   "outputs": [],
   "source": [
    "### Escreva sua resposta aqui\n",
    "from sqlalchemy import create_engine\n",
    "\n",
    "# Criar a conexão com o banco de dados SQLite chamado 'salarios.db'\n",
    "engine = create_engine('sqlite:///salarios.db')\n",
    "\n",
    "# A variável 'engine' agora representa a conexão com o banco de dados\n",
    "# Você pode usá-la para executar consultas SQL ou interagir com o ORM"
   ]
  },
  {
   "cell_type": "markdown",
   "metadata": {},
   "source": [
    "#### Q4. Criando as tabelas\n",
    "Crie as tabelas da questão Q2 no banco `salarios`."
   ]
  },
  {
   "cell_type": "code",
   "execution_count": null,
   "metadata": {
    "vscode": {
     "languageId": "plaintext"
    }
   },
   "outputs": [],
   "source": [
    "### Escreva sua resposta aqui\n",
    "# from sqlalchemy import create_engine, Column, Integer, String, Float, Date, Enum\n",
    "# from sqlalchemy.ext.declarative import declarative_base\n",
    "# from sqlalchemy.orm import sessionmaker\n",
    "import enum\n",
    "import pandas as pd\n",
    "\n",
    "# Carregar os dados\n",
    "url = \"https://github.com/camilalaranjeira/python-intermediario/blob/main/salaries.csv?raw=true\"\n",
    "df = pd.read_csv(url)\n",
    "\n",
    "# Obter valores únicos para DESIGNATION e UNIT\n",
    "designation_unique_values = df['DESIGNATION'].unique()\n",
    "unit_unique_values = df['UNIT'].unique()\n",
    "\n",
    "# Definir a base declarativa\n",
    "# Base = declarative_base()\n",
    "\n",
    "# Definir os Enums\n",
    "class SexEnum(enum.Enum):\n",
    "    F = 'F'\n",
    "    M = 'M'\n",
    "\n",
    "class DesignationEnum(enum.Enum):\n",
    "    Analyst = 'Analyst'\n",
    "    Senior_Analyst = 'Senior Analyst'\n",
    "    Manager = 'Manager'\n",
    "    # Adicionar outros valores únicos encontrados na coluna DESIGNATION\n",
    "    for value in designation_unique_values:\n",
    "        locals()[value.replace(\" \", \"_\")] = value  # Cria atributos dinamicamente\n",
    "\n",
    "class UnitEnum(enum.Enum):\n",
    "    IT = 'IT'\n",
    "    Finance = 'Finance'\n",
    "    Marketing = 'Marketing'\n",
    "    # Adicionar outros valores únicos encontrados na coluna UNIT\n",
    "    for value in unit_unique_values:\n",
    "        locals()[value.replace(\" \", \"_\")] = value  # Cria atributos dinamicamente\n",
    "\n",
    "# Definir o modelo\n",
    "# class Salary(Base):\n",
    "#     __tablename__ = 'salaries'\n",
    "\n",
    "#     id = Column(Integer, primary_key=True, autoincrement=True)\n",
    "#     first_name = Column(String)\n",
    "#     last_name = Column(String)\n",
    "#     sex = Column(Enum(SexEnum))\n",
    "#     doj = Column(Date)\n",
    "#     current_date = Column(Date)\n",
    "#     designation = Column(Enum(DesignationEnum))\n",
    "#     age = Column(Integer)\n",
    "#     salary = Column(Float)\n",
    "#     unit = Column(Enum(UnitEnum))\n",
    "#     leaves_used = Column(Integer)\n",
    "#     leaves_remaining = Column(Integer)\n",
    "#     ratings = Column(Float)\n",
    "#     past_exp = Column(Float)\n",
    "\n",
    "#     def __repr__(self):\n",
    "#         return f\"<Salary(id={self.id}, first_name='{self.first_name}', last_name='{self.last_name}')>\"\n",
    "\n",
    "# Criar o banco de dados e as tabelas\n",
    "# engine = create_engine('sqlite:///salarios.db')  # Use SQLite para simplicidade\n",
    "# Base.metadata.create_all(engine)\n",
    "\n",
    "# Criar uma sessão para interagir com o banco de dados\n",
    "# Session = sessionmaker(bind=engine)\n",
    "# session = Session()\n",
    "\n",
    "# Converter as colunas de data para o tipo datetime\n",
    "df['DOJ'] = pd.to_datetime(df['DOJ'])\n",
    "df['CURRENT DATE'] = pd.to_datetime(df['CURRENT DATE'])\n",
    "\n",
    "# Converter os dados do DataFrame para objetos Salary e adicioná-los à sessão\n",
    "# for index, row in df.iterrows():\n",
    "#     salary = Salary(\n",
    "#         first_name=row['FIRST NAME'],\n",
    "#         last_name=row['LAST NAME'],\n",
    "#         sex=SexEnum(row['SEX']),\n",
    "#         doj=row['DOJ'].to_pydatetime(),\n",
    "#         current_date=row['CURRENT DATE'].to_pydatetime(),\n",
    "#         designation=DesignationEnum(row['DESIGNATION']),\n",
    "#         age=row['AGE'],\n",
    "#         salary=row['SALARY'],\n",
    "#         unit=UnitEnum(row['UNIT']),\n",
    "#         leaves_used=row['LEAVES USED'],\n",
    "#         leaves_remaining=row['LEAVES REMAINING'],\n",
    "#         ratings=row['RATINGS'],\n",
    "#         past_exp=row['PAST EXP']\n",
    "#     )\n",
    "#     session.add(salary)\n",
    "\n",
    "# Commit e fechar a sessão\n",
    "# session.commit()\n",
    "# session.close()\n",
    "\n",
    "print(\"Código para criar as tabelas fornecido. Certifique-se de ter o SQLAlchemy instalado para executá-lo.\")"
   ]
  },
  {
   "cell_type": "markdown",
   "metadata": {},
   "source": [
    "#### Q5. Populando\n",
    "\n",
    "Usando o método `to_sql` da biblioteca Pandas (veja [a documentação](https://pandas.pydata.org/docs/reference/api/pandas.DataFrame.to_sql.html)), popule o banco `salarios` com os dados do csv que você carregou na questão Q1.\n",
    "* Lembre-se de definir o parâmetro `if_exists='append'` para que as tabelas não sejam dropadas e recriadas."
   ]
  },
  {
   "cell_type": "code",
   "execution_count": null,
   "metadata": {
    "vscode": {
     "languageId": "plaintext"
    }
   },
   "outputs": [],
   "source": [
    "### Escreva sua resposta aqui\n",
    "import pandas as pd\n",
    "from sqlalchemy import create_engine\n",
    "\n",
    "# Carregar os dados\n",
    "url = \"https://github.com/camilalaranjeira/python-intermediario/blob/main/salaries.csv?raw=true\"\n",
    "df = pd.read_csv(url)\n",
    "\n",
    "# Criar a conexão com o banco de dados SQLite chamado 'salarios.db'\n",
    "engine = create_engine('sqlite:///salarios.db')\n",
    "\n",
    "# Converter as colunas de data para o formato datetime\n",
    "df['DOJ'] = pd.to_datetime(df['DOJ'])\n",
    "df['CURRENT DATE'] = pd.to_datetime(df['CURRENT DATE'])\n",
    "\n",
    "# Usar o método to_sql para popular o banco de dados\n",
    "df.to_sql('salaries', engine, if_exists='append', index=False)\n",
    "\n",
    "print(\"Dados do CSV carregados com sucesso no banco de dados 'salarios'!\")"
   ]
  },
  {
   "cell_type": "markdown",
   "metadata": {},
   "source": [
    "#### Q6. Consultas SQL vs ORM\n",
    "\n",
    "Agrupe os dados por DESIGNATION e selecione o mínimo, máximo e a média dos salários (SALARY) divididos por 12. Já que o atributo SALARY é anual, dividir por 12 nos mostrará os valores mensais.\n",
    "\n",
    "Assumindo que a variável que armazena a sua conexão se chama `engine`, você deve realizar a query acima de três formas:\n",
    "* Executando a query SQL através de uma instância de conexão retornada pelo método `engine.connect()`\n",
    "* Executando a query SQL com o método `read_sql_query` do Pandas (veja [a documentação](https://pandas.pydata.org/docs/reference/api/pandas.read_sql_query.html)). Você usará mesma instância `engine.connect()` como um dos parâmetros.\n",
    "* Executando uma query criada com o módulo `select` do SQLAlchemy. Sua execução deve ser feita através de um objeto `Session` do módulo `orm` do SQLAlchemy (`Session(engine)`).\n"
   ]
  },
  {
   "cell_type": "code",
   "execution_count": null,
   "metadata": {
    "vscode": {
     "languageId": "plaintext"
    }
   },
   "outputs": [],
   "source": [
    "### Execute aqui sua query SQL com SQLAlchemy\n",
    "with engine.connect() as connection:\n",
    "#     query = text(\"\"\"\n",
    "#         SELECT\n",
    "#             DESIGNATION,\n",
    "#             MIN(SALARY / 12) as min_salary,\n",
    "#             MAX(SALARY / 12) as max_salary,\n",
    "#             AVG(SALARY / 12) as avg_salary\n",
    "#         FROM\n",
    "#             salaries\n",
    "#         GROUP BY\n",
    "#             DESIGNATION\n",
    "#     \"\"\")\n",
    "#     result = connection.execute(query)\n",
    "#     print(\"Resultados da query SQL com SQLAlchemy:\")\n",
    "#     for row in result:\n",
    "#         print(row)"
   ]
  },
  {
   "cell_type": "code",
   "execution_count": null,
   "metadata": {
    "vscode": {
     "languageId": "plaintext"
    }
   },
   "outputs": [],
   "source": [
    "### Execute aqui sua query SQL com SQLAlchemy + Pandas\n",
    "2. Executando a query SQL com Pandas e SQLAlchemy\n",
    "# with engine.connect() as connection:\n",
    "#     query = \"\"\"\n",
    "#         SELECT\n",
    "#             DESIGNATION,\n",
    "#             MIN(SALARY / 12) as min_salary,\n",
    "#             MAX(SALARY / 12) as max_salary,\n",
    "#             AVG(SALARY / 12) as avg_salary\n",
    "#         FROM\n",
    "#             salaries\n",
    "#         GROUP BY\n",
    "#             DESIGNATION\n",
    "#     \"\"\"\n",
    "#     df_result = pd.read_sql_query(query, connection)\n",
    "#     print(\"\\nResultados da query SQL com Pandas e SQLAlchemy:\")\n",
    "#     print(df_result)"
   ]
  },
  {
   "cell_type": "code",
   "execution_count": null,
   "metadata": {
    "vscode": {
     "languageId": "plaintext"
    }
   },
   "outputs": [],
   "source": [
    "### Execute aqui sua query com SQLAlchemy ORM\n",
    "3. Executando a query com SQLAlchemy ORM\n",
    "# Session = Session(engine)\n",
    "\n",
    "# query = select(\n",
    "#     Salary.designation,\n",
    "#     func.min(Salary.salary / 12).label('min_salary'),\n",
    "#     func.max(Salary.salary / 12).label('max_salary'),\n",
    "#     func.avg(Salary.salary / 12).label('avg_salary')\n",
    "# ).group_by(Salary.designation)\n",
    "\n",
    "# result = Session.execute(query)\n",
    "\n",
    "# print(\"\\nResultados da query com SQLAlchemy ORM:\")\n",
    "# for row in result:\n",
    "#     print(row)\n",
    "\n",
    "# Session.close()"
   ]
  }
 ],
 "metadata": {
  "language_info": {
   "name": "python"
  }
 },
 "nbformat": 4,
 "nbformat_minor": 2
}
