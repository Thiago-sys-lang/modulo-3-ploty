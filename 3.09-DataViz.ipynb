{
 "cells": [
  {
   "cell_type": "markdown",
   "metadata": {},
   "source": [
    "> Projeto Desenvolve <br>\n",
    "Programação Intermediária com Python <br>\n",
    "Profa. Camila Laranjeira (mila@projetodesenvolve.com.br) <br>\n",
    "\n",
    "# 3.9 - Visualização de Dados"
   ]
  },
  {
   "cell_type": "markdown",
   "metadata": {
    "vscode": {
     "languageId": "plaintext"
    }
   },
   "source": [
    "## Exercícios\n",
    "Vamos trabalhar com as mesmas bases de dados do exercício de Pandas. Aqui estão os links caso você queira baixar novamente, mas recomendo trabalhar com o `wc_formatado.csv` que exportamos na questão Q2 do exercício anterior.\n",
    "\n",
    "* https://raw.githubusercontent.com/camilalaranjeira/python-intermediario/main/fifa-wc/matches_1930_2022.csv\n",
    "* https://raw.githubusercontent.com/camilalaranjeira/python-intermediario/main/fifa-wc/matches_1991_2023.csv\n",
    "\n",
    "Para relembrar, essas são as colunas do dataframe:\n",
    "```\n",
    "Data columns (total 21 columns):\n",
    " #   Column             Non-Null Count  Dtype         \n",
    "---  ------             --------------  -----         \n",
    " 0   time_1             1312 non-null   string        \n",
    " 1   time_2             1312 non-null   string        \n",
    " 2   gols_1             1312 non-null   int64         \n",
    " 3   gols_2             1312 non-null   int64         \n",
    " 4   data               1312 non-null   datetime64[ns]\n",
    " 5   ano                1312 non-null   int64         \n",
    " 6   país_sede          1312 non-null   string        \n",
    " 7   comparecimento     1312 non-null   int64         \n",
    " 8   resultado          1312 non-null   string        \n",
    " 9   rodada             1312 non-null   category      \n",
    " 10  gols_1_detalhes    970 non-null    string        \n",
    " 11  gols_2_detalhes    771 non-null    string        \n",
    " 12  gols_1_contra      57 non-null     string        \n",
    " 13  gols_2_contra      30 non-null     string        \n",
    " 14  gols_1_penalti     170 non-null    string        \n",
    " 15  gols_2_penalti     119 non-null    string        \n",
    " 16  cartao_vermelho_1  59 non-null     string        \n",
    " 17  cartao_vermelho_2  65 non-null     string        \n",
    " 18  cartao_amarelo_1   834 non-null    string        \n",
    " 19  cartao_amarelo_2   857 non-null    string        \n",
    " 20  copa               1312 non-null   string \n",
    "```"
   ]
  },
  {
   "cell_type": "markdown",
   "metadata": {},
   "source": [
    "#### Q1.\n",
    "Realize todos os imports necessários para executar as três bibliotecas de visualização que conhecemos:\n",
    "* Matplotlib (lembre-se do comando mágico)\n",
    "* Seaborn\n",
    "* Plotly\n",
    "\n",
    "Para cada uma delas, altere o tema padrão de visualização. "
   ]
  },
  {
   "cell_type": "code",
   "execution_count": null,
   "metadata": {
    "vscode": {
     "languageId": "plaintext"
    }
   },
   "outputs": [],
   "source": [
    "# Importando as bibliotecas\n",
    "import matplotlib.pyplot as plt\n",
    "import seaborn as sns\n",
    "import plotly.io as pio\n",
    "\n",
    "# Comando mágico para exibir gráficos no notebook\n",
    "%matplotlib inline\n",
    "\n",
    "# Configurando o estilo do Matplotlib\n",
    "plt.style.use('ggplot')\n",
    "\n",
    "# Configurando o estilo do Seaborn\n",
    "sns.set_theme(style='darkgrid')\n",
    "\n",
    "# Configurando o tema do Plotly\n",
    "pio.templates.default = 'plotly_dark'\n",
    "\n",
    "print(\"Configuração de temas concluída!\")\n"
   ]
  },
  {
   "cell_type": "markdown",
   "metadata": {
    "vscode": {
     "languageId": "plaintext"
    }
   },
   "source": [
    "#### Q2.\n",
    "Sobre os dados de copa do mundo, qual a distribuição de público presente nos jogos? Isso pode ser respondido com um histograma com os dados da coluna `comparecimento`.  \n",
    "\n",
    "Lembre-se que alguns jogos estavam com público 0 incorretamente, que tal remover essas ocorrências para não atrapalhar sua visualzação?\n",
    "\n",
    "Você deve implementar essa visualização nas três bibliotecas que vimos:\n",
    "* Matplotlib\n",
    "* Seaborn\n",
    "* Plotly\n",
    "\n",
    "Garanta que o gráfico tenha pelo menos os atributos de título e rótulos de dimensão."
   ]
  },
  {
   "cell_type": "code",
   "execution_count": null,
   "metadata": {
    "vscode": {
     "languageId": "plaintext"
    }
   },
   "outputs": [],
   "source": [
    "#### Solução com matplotlib\n",
    "\n",
    "fig = px.histogram(df, x='comparecimento', nbins=30, title=\"Distribuição de Público nos Jogos da Copa do Mundo\")\n",
    "fig.update_layout(xaxis_title=\"Número de Espectadores\", yaxis_title=\"Frequência\")\n",
    "fig.show()\n"
   ]
  },
  {
   "cell_type": "code",
   "execution_count": null,
   "metadata": {
    "vscode": {
     "languageId": "plaintext"
    }
   },
   "outputs": [],
   "source": [
    "#### solução com seaborn\n",
    "\n",
    "plt.figure(figsize=(10, 5))\n",
    "sns.histplot(df['comparecimento'], bins=30, kde=True, color='green')\n",
    "plt.title(\"Distribuição de Público nos Jogos da Copa do Mundo\")\n",
    "plt.xlabel(\"Número de Espectadores\")\n",
    "plt.ylabel(\"Frequência\")\n",
    "plt.show()\n"
   ]
  },
  {
   "cell_type": "code",
   "execution_count": null,
   "metadata": {
    "vscode": {
     "languageId": "plaintext"
    }
   },
   "outputs": [],
   "source": [
    "#### solução com plotly\n",
    "\n",
    "fig = px.histogram(df, x='comparecimento', nbins=30, title=\"Distribuição de Público nos Jogos da Copa do Mundo\")\n",
    "fig.update_layout(xaxis_title=\"Número de Espectadores\", yaxis_title=\"Frequência\")\n",
    "fig.show()"
   ]
  },
  {
   "cell_type": "markdown",
   "metadata": {},
   "source": [
    "#### Q3.\n",
    "\n",
    "Apresente um gráfico de dispersão (scatter) dos atributos `gols_1` e `gols_2`. Isso representa a relação entre gols feitos e gols tomados por jogo. Há alguma relação interessante entre esses atributos?\n",
    "\n",
    "Para facilitar a visualização dos dados (já que tem muitos placares repetidos), aplique uma leve distorção aos dados para que cada ponto esteja deslocado aleatoriamente de seu valor original. Código apresentado a seguir\n",
    "```python\n",
    "gols = wc[['gols_1', 'gols_2']] * np.random.random((len(wc),2))\n",
    "```\n",
    "\n",
    "Você deve implementar essa visualização nas três bibliotecas que vimos:\n",
    "* Matplotlib\n",
    "* Seaborn\n",
    "* Plotly\n",
    "\n",
    "Garanta que o gráfico tenha pelo menos os atributos de título e rótulos de dimensão."
   ]
  },
  {
   "cell_type": "code",
   "execution_count": null,
   "metadata": {
    "vscode": {
     "languageId": "plaintext"
    }
   },
   "outputs": [],
   "source": [
    "#### solução com matplotlib\n",
    "plt.figure(figsize=(8, 6))\n",
    "plt.scatter(wc_distorted['gols_1'], wc_distorted['gols_2'], alpha=0.6)\n",
    "plt.xlabel('Gols Marcados')\n",
    "plt.ylabel('Gols Sofridos')\n",
    "plt.title('Relação entre Gols Marcados e Gols Sofridos (Matplotlib)')\n",
    "plt.grid(True)\n",
    "plt.show()\n"
   ]
  },
  {
   "cell_type": "code",
   "execution_count": null,
   "metadata": {
    "vscode": {
     "languageId": "plaintext"
    }
   },
   "outputs": [],
   "source": [
    "#### solução com seaborn\n",
    "plt.figure(figsize=(8, 6))\n",
    "sns.scatterplot(x=wc_distorted['gols_1'], y=wc_distorted['gols_2'], alpha=0.6)\n",
    "plt.xlabel('Gols Marcados')\n",
    "plt.ylabel('Gols Sofridos')\n",
    "plt.title('Relação entre Gols Marcados e Gols Sofridos (Seaborn)')\n",
    "plt.grid(True)\n",
    "plt.show()"
   ]
  },
  {
   "cell_type": "code",
   "execution_count": null,
   "metadata": {
    "vscode": {
     "languageId": "plaintext"
    }
   },
   "outputs": [],
   "source": [
    "#### solução com plotly\n",
    "fig = px.scatter(wc_distorted, x='gols_1', y='gols_2', opacity=0.6,\n",
    "                 labels={'gols_1': 'Gols Marcados', 'gols_2': 'Gols Sofridos'},\n",
    "                 title='Relação entre Gols Marcados e Gols Sofridos (Plotly)')\n",
    "fig.show()\n"
   ]
  },
  {
   "cell_type": "markdown",
   "metadata": {},
   "source": [
    "#### Q4.\n",
    "\n",
    "Apresente um gráfico de barras com o top 10 países que mais participaram de copas do mundo, onde no eixo x devem estar o nome dos países e no eixo y a contagem de participações. Você deve separar a contagem de participações em copas femininas e masculinas, empilhando as barras de cada informação.\n",
    "\n",
    "No exemplo de barras empilhadas da galeria do matplotlib, imagine que a parte azul são as participações do país em copas masculinas, e em laranja as participações femininas:\n",
    "* https://matplotlib.org/stable/gallery/lines_bars_and_markers/bar_stacked.html\n",
    "\n",
    "Você deve implementar essa visualização nas três bibliotecas que vimos:\n",
    "* Matplotlib\n",
    "* Seaborn\n",
    "* Plotly\n",
    "\n",
    "Garanta que o gráfico tenha pelo menos os atributos:\n",
    "* título\n",
    "* rótulos de dimensão.\n",
    "* legenda"
   ]
  },
  {
   "cell_type": "code",
   "execution_count": null,
   "metadata": {
    "vscode": {
     "languageId": "plaintext"
    }
   },
   "outputs": [],
   "source": [
    "#### solução com matplotlib\n",
    "fig, ax = plt.subplots(figsize=(10, 6))\n",
    "ax.bar(countries, mens, label='Masculino', color='blue')\n",
    "ax.bar(countries, womens, bottom=mens, label='Feminino', color='orange')\n",
    "ax.set_xlabel('Países')\n",
    "ax.set_ylabel('Número de Participações')\n",
    "ax.set_title('Top 10 Países com Mais Participações em Copas do Mundo')\n",
    "ax.legend()\n",
    "plt.xticks(rotation=45)\n",
    "plt.show()"
   ]
  },
  {
   "cell_type": "code",
   "execution_count": null,
   "metadata": {
    "vscode": {
     "languageId": "plaintext"
    }
   },
   "outputs": [],
   "source": [
    "#### solução com seaborn\n",
    "plt.figure(figsize=(10, 6))\n",
    "df = pd.DataFrame({'País': countries, 'Masculino': mens, 'Feminino': womens})\n",
    "df_melted = df.melt(id_vars='País', var_name='Categoria', value_name='Participações')\n",
    "sns.barplot(x='País', y='Participações', hue='Categoria', data=df_melted, dodge=False)\n",
    "plt.xlabel('Países')\n",
    "plt.ylabel('Número de Participações')\n",
    "plt.title('Top 10 Países com Mais Participações em Copas do Mundo')\n",
    "plt.xticks(rotation=45)\n",
    "plt.legend()\n",
    "plt.show()"
   ]
  },
  {
   "cell_type": "code",
   "execution_count": null,
   "metadata": {
    "vscode": {
     "languageId": "plaintext"
    }
   },
   "outputs": [],
   "source": [
    "#### solução com plotly\n",
    "fig = px.bar(df_melted, x='País', y='Participações', color='Categoria',\n",
    "             title='Top 10 Países com Mais Participações em Copas do Mundo',\n",
    "             labels={'País': 'Países', 'Participações': 'Número de Participações'})\n",
    "fig.show()"
   ]
  },
  {
   "cell_type": "markdown",
   "metadata": {},
   "source": [
    "#### Q5.\n",
    "\n",
    "Vamos fazer um compilado com as estatísticas históricas de copas do mundo!\n",
    "\n",
    "Com a biblioteca de sua preferência você deve criar 4 subplots organizados em um grid de 2 linhas e 2 colunas. Eles devem conter os seguintes gráficos:\n",
    "* Linha 1, coluna 1: Gráfico de barras com a quantidade de jogos que aconteceram por ano\n",
    "* Linha 1, coluna 2: Gráfico de área (referências a seguir) com o total de gols por ano, separando as informações de `gols_1` e `gols_2` para distinguir gols em casa e do time visitante.\n",
    "* Linha 2, coluna 1: Gráfico de área com o total de cartões por ano, separando as informações de cartões amarelos e cartões vermelhos, mas agregando cartões do time 1 ou time 2. Ou seja, uma área com `cartao_amarelo_1 + cartao_amarelo_2` e outra área com `cartao_vermelho_1 + cartao_vermelho_2`.\n",
    "* Linha 2, coluna 2: Gráfico de barras com o total de gols contra por ano, somando `gols_contra_1` e `gols_contra_2`.\n",
    "\n",
    "Referências sobre gráfico de área\n",
    "* Matplotlib: https://matplotlib.org/stable/gallery/lines_bars_and_markers/stackplot_demo.html#sphx-glr-gallery-lines-bars-and-markers-stackplot-demo-py\n",
    "* Pandas + Matplotlib: https://pandas.pydata.org/docs/reference/api/pandas.DataFrame.plot.area.html\n",
    "* Seaborn: https://seaborn.pydata.org/generated/seaborn.objects.Area.html\n",
    "* Plotly: https://plotly.com/python/filled-area-plots/"
   ]
  },
  {
   "cell_type": "code",
   "execution_count": null,
   "metadata": {
    "vscode": {
     "languageId": "plaintext"
    }
   },
   "outputs": [],
   "source": [
    "import numpy as np\n",
    "import pandas as pd\n",
    "import matplotlib.pyplot as plt\n",
    "import seaborn as sns\n",
    "import plotly.express as px\n",
    "\n",
    "# Supondo que wc seja um DataFrame existente com as colunas necessárias\n",
    "# Criando um exemplo de DataFrame para demonstração\n",
    "np.random.seed(42)\n",
    "data = {\n",
    "    'ano': np.tile(np.arange(1930, 2023, 4), 2),\n",
    "    'gols_1': np.random.randint(10, 50, 48),\n",
    "    'gols_2': np.random.randint(10, 50, 48),\n",
    "    'cartao_amarelo_1': np.random.randint(5, 30, 48),\n",
    "    'cartao_amarelo_2': np.random.randint(5, 30, 48),\n",
    "    'cartao_vermelho_1': np.random.randint(0, 5, 48),\n",
    "    'cartao_vermelho_2': np.random.randint(0, 5, 48),\n",
    "    'gols_contra_1': np.random.randint(0, 10, 48),\n",
    "    'gols_contra_2': np.random.randint(0, 10, 48)\n",
    "}\n",
    "wc = pd.DataFrame(data)\n",
    "\n",
    "# Criando os subplots\n",
    "fig, axes = plt.subplots(2, 2, figsize=(14, 10))\n",
    "\n",
    "# Gráfico 1: Jogos por ano\n",
    "wc_counts = wc.groupby('ano').size()\n",
    "axes[0, 0].bar(wc_counts.index, wc_counts.values, color='blue')\n",
    "axes[0, 0].set_title('Quantidade de Jogos por Ano')\n",
    "axes[0, 0].set_xlabel('Ano')\n",
    "axes[0, 0].set_ylabel('Número de Jogos')\n",
    "\n",
    "# Gráfico 2: Gols por ano (Gráfico de área)\n",
    "axes[0, 1].stackplot(wc['ano'].unique(), wc.groupby('ano')[['gols_1', 'gols_2']].sum().T, labels=['Gols do Time 1', 'Gols do Time 2'], colors=['blue', 'orange'])\n",
    "axes[0, 1].set_title('Total de Gols por Ano')\n",
    "axes[0, 1].set_xlabel('Ano')\n",
    "axes[0, 1].set_ylabel('Número de Gols')\n",
    "axes[0, 1].legend()\n",
    "\n",
    "# Gráfico 3: Cartões por ano (Gráfico de área)\n",
    "cartoes = wc.groupby('ano')[['cartao_amarelo_1', 'cartao_amarelo_2', 'cartao_vermelho_1', 'cartao_vermelho_2']].sum()\n",
    "cartoes_amarelos = cartoes['cartao_amarelo_1'] + cartoes['cartao_amarelo_2']\n",
    "cartoes_vermelhos = cartoes['cartao_vermelho_1'] + cartoes['cartao_vermelho_2']\n",
    "axes[1, 0].stackplot(wc['ano'].unique(), [cartoes_amarelos, cartoes_vermelhos], labels=['Cartões Amarelos', 'Cartões Vermelhos'], colors=['yellow', 'red'])\n",
    "axes[1, 0].set_title('Total de Cartões por Ano')\n",
    "axes[1, 0].set_xlabel('Ano')\n",
    "axes[1, 0].set_ylabel('Número de Cartões')\n",
    "axes[1, 0].legend()\n",
    "\n",
    "# Gráfico 4: Gols Contra por ano\n",
    "wc['gols_contra_total'] = wc['gols_contra_1'] + wc['gols_contra_2']\n",
    "gols_contra = wc.groupby('ano')['gols_contra_total'].sum()\n",
    "axes[1, 1].bar(gols_contra.index, gols_contra.values, color='purple')\n",
    "axes[1, 1].set_title('Total de Gols Contra por Ano')\n",
    "axes[1, 1].set_xlabel('Ano')\n",
    "axes[1, 1].set_ylabel('Número de Gols Contra')\n",
    "\n",
    "plt.tight_layout()\n",
    "plt.show()\n"
   ]
  }
 ],
 "metadata": {
  "language_info": {
   "name": "python"
  }
 },
 "nbformat": 4,
 "nbformat_minor": 2
}
